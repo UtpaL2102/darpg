{
 "cells": [
  {
   "cell_type": "code",
   "execution_count": null,
   "metadata": {},
   "outputs": [],
   "source": [
    "pip install accelerate"
   ]
  },
  {
   "cell_type": "code",
   "execution_count": null,
   "metadata": {},
   "outputs": [],
   "source": [
    "pip install gradio"
   ]
  },
  {
   "cell_type": "code",
   "execution_count": null,
   "metadata": {},
   "outputs": [],
   "source": [
    "import torch\n",
    "from transformers import AutoModelForSpeechSeq2Seq, AutoProcessor, pipeline\n",
    "import gradio as gr\n",
    "import time\n",
    "\n",
    "model_id = \"sanket003/whisper-darpg\"\n",
    "model = AutoModelForSpeechSeq2Seq.from_pretrained(\n",
    "    model_id, torch_dtype=torch.float32, low_cpu_mem_usage=True, use_safetensors=True\n",
    ")\n",
    "processor = AutoProcessor.from_pretrained(model_id)\n",
    "pipe = pipeline(\n",
    "    \"automatic-speech-recognition\",\n",
    "    model=model,\n",
    "    tokenizer=processor.tokenizer,\n",
    "    feature_extractor=processor.feature_extractor,\n",
    "    max_new_tokens=128,\n",
    "    chunk_length_s=30,\n",
    "    batch_size=8,\n",
    "    torch_dtype=torch.float32,\n",
    ")\n",
    "\n",
    "def transcribe_audio(audio, file):\n",
    "    if audio:\n",
    "        result = pipe(audio)\n",
    "    elif file:\n",
    "        result = pipe(file)\n",
    "        pass\n",
    "    else:\n",
    "        result = {\"text\": \"No input provided.\"}\n",
    "    return result[\"text\"]\n",
    "\n",
    "iface = gr.Interface(\n",
    "    title=\"Transforming Speech into Text\",\n",
    "    fn=transcribe_audio,\n",
    "    inputs=[\n",
    "        gr.Audio(sources=\"microphone\", type=\"filepath\", label=\"Record from Microphone\"),\n",
    "        gr.File(type=\"filepath\", label=\"Upload Audio File\"),\n",
    "    ],\n",
    "    outputs=[\"textbox\"],\n",
    "    description=\"Choose either microphone input or upload an audio file.\",\n",
    ")\n",
    "iface.launch(share=True)"
   ]
  }
 ],
 "metadata": {
  "kernelspec": {
   "display_name": "Python 3",
   "language": "python",
   "name": "python3"
  },
  "language_info": {
   "codemirror_mode": {
    "name": "ipython",
    "version": 3
   },
   "file_extension": ".py",
   "mimetype": "text/x-python",
   "name": "python",
   "nbconvert_exporter": "python",
   "pygments_lexer": "ipython3",
   "version": "3.11.4"
  }
 },
 "nbformat": 4,
 "nbformat_minor": 2
}
